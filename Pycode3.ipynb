{
 "cells": [
  {
   "cell_type": "markdown",
   "id": "a8909b72",
   "metadata": {},
   "source": [
    "# List operation"
   ]
  },
  {
   "cell_type": "markdown",
   "id": "900543ca",
   "metadata": {},
   "source": []
  },
  {
   "cell_type": "code",
   "execution_count": 1,
   "id": "476ae57e",
   "metadata": {},
   "outputs": [
    {
     "name": "stdout",
     "output_type": "stream",
     "text": [
      "[]\n"
     ]
    }
   ],
   "source": [
    "names=[]\n",
    "print(names)"
   ]
  },
  {
   "cell_type": "code",
   "execution_count": 3,
   "id": "b08a721d",
   "metadata": {},
   "outputs": [
    {
     "data": {
      "text/plain": [
       "['Mark', 'john', 'july']"
      ]
     },
     "execution_count": 3,
     "metadata": {},
     "output_type": "execute_result"
    }
   ],
   "source": [
    "names=[\"Mark\",\"john\",\"july\"]\n",
    "names"
   ]
  },
  {
   "cell_type": "code",
   "execution_count": 4,
   "id": "122a07a0",
   "metadata": {},
   "outputs": [],
   "source": [
    "M=[123,'spam',1.23,123,'spam',1.23]"
   ]
  },
  {
   "cell_type": "code",
   "execution_count": 5,
   "id": "b4b65f7d",
   "metadata": {},
   "outputs": [
    {
     "data": {
      "text/plain": [
       "[123, 'spam', 1.23, 123, 'spam', 1.23]"
      ]
     },
     "execution_count": 5,
     "metadata": {},
     "output_type": "execute_result"
    }
   ],
   "source": [
    "M"
   ]
  },
  {
   "cell_type": "code",
   "execution_count": 6,
   "id": "0566eb3d",
   "metadata": {},
   "outputs": [],
   "source": [
    "M[4]='Hello'"
   ]
  },
  {
   "cell_type": "code",
   "execution_count": 7,
   "id": "7fc91fd8",
   "metadata": {},
   "outputs": [
    {
     "ename": "NameError",
     "evalue": "name 'm' is not defined",
     "output_type": "error",
     "traceback": [
      "\u001b[0;31m---------------------------------------------------------------------------\u001b[0m",
      "\u001b[0;31mNameError\u001b[0m                                 Traceback (most recent call last)",
      "Input \u001b[0;32mIn [7]\u001b[0m, in \u001b[0;36m<cell line: 1>\u001b[0;34m()\u001b[0m\n\u001b[0;32m----> 1\u001b[0m \u001b[43mm\u001b[49m\n",
      "\u001b[0;31mNameError\u001b[0m: name 'm' is not defined"
     ]
    }
   ],
   "source": [
    "m"
   ]
  },
  {
   "cell_type": "code",
   "execution_count": 8,
   "id": "189d77f3",
   "metadata": {},
   "outputs": [
    {
     "data": {
      "text/plain": [
       "[123, 'spam', 1.23, 123, 'Hello', 1.23]"
      ]
     },
     "execution_count": 8,
     "metadata": {},
     "output_type": "execute_result"
    }
   ],
   "source": [
    "M"
   ]
  },
  {
   "cell_type": "code",
   "execution_count": 10,
   "id": "1722e519",
   "metadata": {},
   "outputs": [
    {
     "name": "stdout",
     "output_type": "stream",
     "text": [
      "First list length: 3\n",
      "second list length: 2\n"
     ]
    }
   ],
   "source": [
    "list1, list2=[123,'xyz','zara'],[456,'abc']\n",
    "print(\"First list length:\", len(list1))\n",
    "print(\"second list length:\", len(list2))"
   ]
  },
  {
   "cell_type": "code",
   "execution_count": 12,
   "id": "72594c38",
   "metadata": {},
   "outputs": [
    {
     "name": "stdout",
     "output_type": "stream",
     "text": [
      "Max value element: 700\n"
     ]
    }
   ],
   "source": [
    "list1,list2=[123,'xyz','zara','abc'],[456,700,200]\n",
    "print(\"Max value element:\",max(list2))"
   ]
  },
  {
   "cell_type": "code",
   "execution_count": 13,
   "id": "526e06bf",
   "metadata": {},
   "outputs": [
    {
     "ename": "TypeError",
     "evalue": "'>' not supported between instances of 'str' and 'int'",
     "output_type": "error",
     "traceback": [
      "\u001b[0;31m---------------------------------------------------------------------------\u001b[0m",
      "\u001b[0;31mTypeError\u001b[0m                                 Traceback (most recent call last)",
      "Input \u001b[0;32mIn [13]\u001b[0m, in \u001b[0;36m<cell line: 1>\u001b[0;34m()\u001b[0m\n\u001b[0;32m----> 1\u001b[0m \u001b[38;5;28mprint\u001b[39m(\u001b[38;5;124m\"\u001b[39m\u001b[38;5;124mmax value element:\u001b[39m\u001b[38;5;124m\"\u001b[39m,\u001b[38;5;28;43mmax\u001b[39;49m\u001b[43m(\u001b[49m\u001b[43mlist1\u001b[49m\u001b[43m)\u001b[49m)\n",
      "\u001b[0;31mTypeError\u001b[0m: '>' not supported between instances of 'str' and 'int'"
     ]
    }
   ],
   "source": [
    "print(\"Max value element:\",max(list1))"
   ]
  },
  {
   "cell_type": "code",
   "execution_count": 16,
   "id": "ca18ed21",
   "metadata": {},
   "outputs": [
    {
     "ename": "NameError",
     "evalue": "name 'aList' is not defined",
     "output_type": "error",
     "traceback": [
      "\u001b[0;31m---------------------------------------------------------------------------\u001b[0m",
      "\u001b[0;31mNameError\u001b[0m                                 Traceback (most recent call last)",
      "Input \u001b[0;32mIn [16]\u001b[0m, in \u001b[0;36m<cell line: 2>\u001b[0;34m()\u001b[0m\n\u001b[1;32m      1\u001b[0m list1,list2\u001b[38;5;241m=\u001b[39m[\u001b[38;5;241m123\u001b[39m,\u001b[38;5;124m'\u001b[39m\u001b[38;5;124mxyz\u001b[39m\u001b[38;5;124m'\u001b[39m,\u001b[38;5;124m'\u001b[39m\u001b[38;5;124mzara\u001b[39m\u001b[38;5;124m'\u001b[39m,\u001b[38;5;124m'\u001b[39m\u001b[38;5;124mabc\u001b[39m\u001b[38;5;124m'\u001b[39m],[\u001b[38;5;241m456\u001b[39m,\u001b[38;5;241m700\u001b[39m,\u001b[38;5;241m200\u001b[39m]\n\u001b[0;32m----> 2\u001b[0m \u001b[38;5;28mprint\u001b[39m(\u001b[38;5;124m\"\u001b[39m\u001b[38;5;124mmin value element:\u001b[39m\u001b[38;5;124m\"\u001b[39m,\u001b[43maList\u001b[49m)\n",
      "\u001b[0;31mNameError\u001b[0m: name 'aList' is not defined"
     ]
    }
   ],
   "source": [
    " list1,list2=[123,'xyz','zara','abc'],[456,700,200]\n",
    "print(\"min value element:\",aList)"
   ]
  },
  {
   "cell_type": "code",
   "execution_count": 17,
   "id": "d69d84f7",
   "metadata": {},
   "outputs": [],
   "source": [
    "fish=['barracuda','cod','devil ray','eel']"
   ]
  },
  {
   "cell_type": "code",
   "execution_count": null,
   "id": "745fe19e",
   "metadata": {},
   "outputs": [],
   "source": [
    "fish.append('app')"
   ]
  }
 ],
 "metadata": {
  "kernelspec": {
   "display_name": "Python 3 (ipykernel)",
   "language": "python",
   "name": "python3"
  },
  "language_info": {
   "codemirror_mode": {
    "name": "ipython",
    "version": 3
   },
   "file_extension": ".py",
   "mimetype": "text/x-python",
   "name": "python",
   "nbconvert_exporter": "python",
   "pygments_lexer": "ipython3",
   "version": "3.8.10"
  }
 },
 "nbformat": 4,
 "nbformat_minor": 5
}
